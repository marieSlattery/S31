{
 "cells": [
  {
   "cell_type": "code",
   "execution_count": 1,
   "metadata": {
    "collapsed": true
   },
   "outputs": [],
   "source": [
    "%%bash\n",
    "cat << _EOF_ > whereami.sh\n",
    "#!/bin/bash\n",
    "\n",
    "echo \"You are in PWD\"\n",
    "_EOF_"
   ]
  },
  {
   "cell_type": "code",
   "execution_count": 2,
   "metadata": {
    "collapsed": false
   },
   "outputs": [
    {
     "name": "stdout",
     "output_type": "stream",
     "text": [
      "#!/bin/bash\n",
      "\n",
      "echo \"You are in PWD\"\n"
     ]
    }
   ],
   "source": [
    "%%bash\n",
    "cat whereami.sh"
   ]
  },
  {
   "cell_type": "code",
   "execution_count": 3,
   "metadata": {
    "collapsed": true
   },
   "outputs": [],
   "source": [
    "%%bash\n",
    "chmod u+x whereami.sh"
   ]
  },
  {
   "cell_type": "code",
   "execution_count": 4,
   "metadata": {
    "collapsed": false
   },
   "outputs": [
    {
     "name": "stdout",
     "output_type": "stream",
     "text": [
      "-rwxr--r-- 1 t00189554 Domain Users 35 Feb 10 11:46 whereami.sh\n"
     ]
    }
   ],
   "source": [
    "%%bash\n",
    "ls -l whereami.sh"
   ]
  },
  {
   "cell_type": "code",
   "execution_count": 5,
   "metadata": {
    "collapsed": false
   },
   "outputs": [
    {
     "name": "stderr",
     "output_type": "stream",
     "text": [
      "bash: line 1: .whereami.sh: command not found\n"
     ]
    }
   ],
   "source": [
    "%%bash\n",
    ".whereami.sh"
   ]
  },
  {
   "cell_type": "code",
   "execution_count": 6,
   "metadata": {
    "collapsed": false
   },
   "outputs": [
    {
     "name": "stdout",
     "output_type": "stream",
     "text": [
      "You are in PWD\n"
     ]
    }
   ],
   "source": [
    "%%bash\n",
    "./whereami.sh"
   ]
  },
  {
   "cell_type": "code",
   "execution_count": 7,
   "metadata": {
    "collapsed": true
   },
   "outputs": [],
   "source": [
    "%%bash\n",
    "cat << _EOF_ > whereami.sh\n",
    "#!/bin/bash\n",
    "\n",
    " PWD\n",
    "_EOF_"
   ]
  },
  {
   "cell_type": "code",
   "execution_count": 8,
   "metadata": {
    "collapsed": false
   },
   "outputs": [
    {
     "name": "stdout",
     "output_type": "stream",
     "text": [
      "#!/bin/bash\n",
      "\n",
      " PWD\n",
      "/home/t00189554\n"
     ]
    }
   ],
   "source": [
    "%%bash\n",
    "cat whereami.sh\n",
    "./whereami.sh"
   ]
  },
  {
   "cell_type": "code",
   "execution_count": 9,
   "metadata": {
    "collapsed": false
   },
   "outputs": [
    {
     "name": "stdout",
     "output_type": "stream",
     "text": [
      "/home/t00189554\n"
     ]
    }
   ],
   "source": [
    "%%bash\n",
    "pwd"
   ]
  },
  {
   "cell_type": "code",
   "execution_count": 10,
   "metadata": {
    "collapsed": false
   },
   "outputs": [
    {
     "name": "stdout",
     "output_type": "stream",
     "text": [
      "You are in /home/t00189554\n"
     ]
    }
   ],
   "source": [
    "%%bash\n",
    "echo \"You are in $(pwd)\""
   ]
  },
  {
   "cell_type": "code",
   "execution_count": 11,
   "metadata": {
    "collapsed": false
   },
   "outputs": [
    {
     "name": "stdout",
     "output_type": "stream",
     "text": [
      "01_bash_setting_permissions.ipynb\n",
      "S31\n",
      "whereami.sh\n",
      "Workbook1.ipynb\n"
     ]
    }
   ],
   "source": [
    "%%bash\n",
    "ls"
   ]
  },
  {
   "cell_type": "code",
   "execution_count": 12,
   "metadata": {
    "collapsed": false
   },
   "outputs": [
    {
     "name": "stdout",
     "output_type": "stream",
     "text": [
      "01_bash_setting_permissions.ipynb\n",
      "S31\n",
      "whereami.sh\n",
      "Workbook1.ipynb\n"
     ]
    }
   ],
   "source": [
    "%%bash\n",
    "echo \"$(ls)\""
   ]
  },
  {
   "cell_type": "code",
   "execution_count": 13,
   "metadata": {
    "collapsed": false
   },
   "outputs": [
    {
     "name": "stdout",
     "output_type": "stream",
     "text": [
      "Filesystem         1K-blocks       Used     Available Use% Mounted on\n",
      "C:/cygwin64        934570312  494446924     440123388  53% /\n",
      "K:                1073753084  480890652     592862432  45% /cygdrive/k\n",
      "M:                2959300616 1875025124    1084275492  64% /cygdrive/m\n",
      "N:                 100584316   86867520      13716796  87% /cygdrive/n\n",
      "X:             1072668082176          0 1072668082176   0% /cygdrive/x\n"
     ]
    }
   ],
   "source": [
    "%%bash\n",
    "df"
   ]
  },
  {
   "cell_type": "code",
   "execution_count": 14,
   "metadata": {
    "collapsed": true
   },
   "outputs": [],
   "source": [
    "%%bash\n",
    "cat << _EOF_ > whereami.sh\n",
    "#!/bin/bash\n",
    "\n",
    "echo \"You are in $(PWD)\"\n",
    "_EOF_"
   ]
  },
  {
   "cell_type": "code",
   "execution_count": 15,
   "metadata": {
    "collapsed": false
   },
   "outputs": [
    {
     "name": "stdout",
     "output_type": "stream",
     "text": [
      "You are in /home/t00189554\n"
     ]
    }
   ],
   "source": [
    "%%bash\n",
    "cat << _EOF_ > whereami.sh\n",
    "#!/bin/bash\n",
    "\n",
    "echo \"You are in $(PWD)\"\n",
    "_EOF_\n",
    "./whereami.sh"
   ]
  },
  {
   "cell_type": "code",
   "execution_count": 16,
   "metadata": {
    "collapsed": false
   },
   "outputs": [
    {
     "name": "stderr",
     "output_type": "stream",
     "text": [
      "bash: line 1: ./whereami.ssh: No such file or directory\n"
     ]
    }
   ],
   "source": [
    "%%bash\n",
    "#I misspelt the name of the script\n",
    "./whereami.ssh"
   ]
  },
  {
   "cell_type": "code",
   "execution_count": 17,
   "metadata": {
    "collapsed": false
   },
   "outputs": [
    {
     "name": "stdout",
     "output_type": "stream",
     "text": [
      "You are in /home/t00189554\n"
     ]
    }
   ],
   "source": [
    "%%bash\n",
    "./whereami.sh"
   ]
  },
  {
   "cell_type": "code",
   "execution_count": 20,
   "metadata": {
    "collapsed": false
   },
   "outputs": [
    {
     "name": "stdout",
     "output_type": "stream",
     "text": [
      "/home/t00189554\n"
     ]
    }
   ],
   "source": [
    "%%bash\n",
    "pwd"
   ]
  },
  {
   "cell_type": "markdown",
   "metadata": {},
   "source": [
    "   "
   ]
  }
 ],
 "metadata": {
  "kernelspec": {
   "display_name": "Python 3",
   "language": "python",
   "name": "python3"
  },
  "language_info": {
   "codemirror_mode": {
    "name": "ipython",
    "version": 3
   },
   "file_extension": ".py",
   "mimetype": "text/x-python",
   "name": "python",
   "nbconvert_exporter": "python",
   "pygments_lexer": "ipython3",
   "version": "3.5.1"
  }
 },
 "nbformat": 4,
 "nbformat_minor": 0
}
